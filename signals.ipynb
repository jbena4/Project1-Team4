{
 "cells": [
  {
   "cell_type": "code",
   "execution_count": 1,
   "id": "bae10ce2-9a25-404e-8c08-1a0a531073da",
   "metadata": {},
   "outputs": [],
   "source": [
    "import yfinance as yf\n",
    "import talib as ta\n",
    "import pandas as pd\n",
    "import matplotlib.pyplot as plt"
   ]
  },
  {
   "cell_type": "code",
   "execution_count": 14,
   "id": "7447b349-d2c9-4f10-a7fd-4da5c7421dfb",
   "metadata": {},
   "outputs": [
    {
     "name": "stdout",
     "output_type": "stream",
     "text": [
      "[*********************100%***********************]  7 of 7 completed\n"
     ]
    },
    {
     "data": {
      "text/html": [
       "<div>\n",
       "<style scoped>\n",
       "    .dataframe tbody tr th:only-of-type {\n",
       "        vertical-align: middle;\n",
       "    }\n",
       "\n",
       "    .dataframe tbody tr th {\n",
       "        vertical-align: top;\n",
       "    }\n",
       "\n",
       "    .dataframe thead th {\n",
       "        text-align: right;\n",
       "    }\n",
       "</style>\n",
       "<table border=\"1\" class=\"dataframe\">\n",
       "  <thead>\n",
       "    <tr style=\"text-align: right;\">\n",
       "      <th></th>\n",
       "      <th>AAPL</th>\n",
       "      <th>AMZN</th>\n",
       "      <th>BA</th>\n",
       "      <th>GOOGL</th>\n",
       "      <th>JPM</th>\n",
       "      <th>NFLX</th>\n",
       "      <th>TSLA</th>\n",
       "    </tr>\n",
       "    <tr>\n",
       "      <th>Date</th>\n",
       "      <th></th>\n",
       "      <th></th>\n",
       "      <th></th>\n",
       "      <th></th>\n",
       "      <th></th>\n",
       "      <th></th>\n",
       "      <th></th>\n",
       "    </tr>\n",
       "  </thead>\n",
       "  <tbody>\n",
       "    <tr>\n",
       "      <th>2017-02-10</th>\n",
       "      <td>33.029999</td>\n",
       "      <td>827.460022</td>\n",
       "      <td>166.229996</td>\n",
       "      <td>834.849976</td>\n",
       "      <td>87.000000</td>\n",
       "      <td>144.820007</td>\n",
       "      <td>53.846001</td>\n",
       "    </tr>\n",
       "    <tr>\n",
       "      <th>2017-02-13</th>\n",
       "      <td>33.322498</td>\n",
       "      <td>836.530029</td>\n",
       "      <td>168.029999</td>\n",
       "      <td>838.960022</td>\n",
       "      <td>88.150002</td>\n",
       "      <td>143.199997</td>\n",
       "      <td>56.119999</td>\n",
       "    </tr>\n",
       "    <tr>\n",
       "      <th>2017-02-14</th>\n",
       "      <td>33.755001</td>\n",
       "      <td>836.390015</td>\n",
       "      <td>168.500000</td>\n",
       "      <td>840.030029</td>\n",
       "      <td>89.559998</td>\n",
       "      <td>140.820007</td>\n",
       "      <td>56.195999</td>\n",
       "    </tr>\n",
       "    <tr>\n",
       "      <th>2017-02-15</th>\n",
       "      <td>33.877499</td>\n",
       "      <td>842.700012</td>\n",
       "      <td>169.300003</td>\n",
       "      <td>837.320007</td>\n",
       "      <td>90.589996</td>\n",
       "      <td>142.270004</td>\n",
       "      <td>55.952000</td>\n",
       "    </tr>\n",
       "    <tr>\n",
       "      <th>2017-02-16</th>\n",
       "      <td>33.837502</td>\n",
       "      <td>844.140015</td>\n",
       "      <td>170.809998</td>\n",
       "      <td>842.169983</td>\n",
       "      <td>90.529999</td>\n",
       "      <td>142.009995</td>\n",
       "      <td>53.790001</td>\n",
       "    </tr>\n",
       "  </tbody>\n",
       "</table>\n",
       "</div>"
      ],
      "text/plain": [
       "                 AAPL        AMZN          BA       GOOGL        JPM  \\\n",
       "Date                                                                   \n",
       "2017-02-10  33.029999  827.460022  166.229996  834.849976  87.000000   \n",
       "2017-02-13  33.322498  836.530029  168.029999  838.960022  88.150002   \n",
       "2017-02-14  33.755001  836.390015  168.500000  840.030029  89.559998   \n",
       "2017-02-15  33.877499  842.700012  169.300003  837.320007  90.589996   \n",
       "2017-02-16  33.837502  844.140015  170.809998  842.169983  90.529999   \n",
       "\n",
       "                  NFLX       TSLA  \n",
       "Date                               \n",
       "2017-02-10  144.820007  53.846001  \n",
       "2017-02-13  143.199997  56.119999  \n",
       "2017-02-14  140.820007  56.195999  \n",
       "2017-02-15  142.270004  55.952000  \n",
       "2017-02-16  142.009995  53.790001  "
      ]
     },
     "execution_count": 14,
     "metadata": {},
     "output_type": "execute_result"
    }
   ],
   "source": [
    "\n",
    "tickers = yf.download(\"AAPL JPM GOOGL NFLX AMZN BA TSLA\", period='5y')\n",
    "tickers_close = tickers['Close'].dropna()\n",
    "tickers_close.head()\n"
   ]
  },
  {
   "cell_type": "code",
   "execution_count": 33,
   "id": "47464847-9835-4864-b75c-e85a3ac1fe03",
   "metadata": {},
   "outputs": [
    {
     "data": {
      "text/plain": [
       "(False, False, 2720.679345703125, 2818.6728076171876)"
      ]
     },
     "execution_count": 33,
     "metadata": {},
     "output_type": "execute_result"
    }
   ],
   "source": [
    "def MA_trade(tickers_close):\n",
    "     ma_short = ta.SMA(tickers_close['GOOGL'],15)\n",
    "     ma_long = ta.SMA(tickers_close['GOOGL'],50)\n",
    "     ma_sell = ((ma_short <= ma_long) & (ma_short.shift(1) >= ma_long.shift(1)))\n",
    "     ma_buy = ((ma_short >= ma_long) & (ma_short.shift(1) <= ma_long.shift(1)))\n",
    "     return ma_sell[-1],ma_buy[-1],ma_short[-1],ma_long[-1]\n",
    "\n",
    "MA_trade(tickers_close)\n"
   ]
  },
  {
   "cell_type": "code",
   "execution_count": 44,
   "id": "cba6312b-1410-47d0-9ab2-9d34698ee274",
   "metadata": {},
   "outputs": [
    {
     "data": {
      "text/plain": [
       "(False, False, 54.414911597459216)"
      ]
     },
     "execution_count": 44,
     "metadata": {},
     "output_type": "execute_result"
    }
   ],
   "source": [
    "def RSI(tickers_close):\n",
    "        rsi = ta.RSI(tickers_close['JPM'],15)\n",
    "        rsi_sell = (rsi>70) & (rsi.shift(1)<=70)\n",
    "        rsi_buy = (rsi<30) & (rsi.shift(1)>=30)\n",
    "        return rsi_sell[-1],rsi_buy[-1], rsi[-1]\n",
    "RSI(tickers_close)"
   ]
  },
  {
   "cell_type": "code",
   "execution_count": 51,
   "id": "828a79b7-fbc7-4cdd-92f1-95aa9eb93bc9",
   "metadata": {},
   "outputs": [
    {
     "ename": "ValueError",
     "evalue": "The truth value of a Series is ambiguous. Use a.empty, a.bool(), a.item(), a.any() or a.all().",
     "output_type": "error",
     "traceback": [
      "\u001b[1;31m---------------------------------------------------------------------------\u001b[0m",
      "\u001b[1;31mValueError\u001b[0m                                Traceback (most recent call last)",
      "\u001b[1;32m~\\AppData\\Local\\Temp/ipykernel_3268/3940363287.py\u001b[0m in \u001b[0;36m<module>\u001b[1;34m\u001b[0m\n\u001b[0;32m      5\u001b[0m     \u001b[1;32melse\u001b[0m\u001b[1;33m:\u001b[0m\u001b[1;33m\u001b[0m\u001b[1;33m\u001b[0m\u001b[0m\n\u001b[0;32m      6\u001b[0m         \u001b[0mprint\u001b[0m\u001b[1;33m(\u001b[0m\u001b[1;34mf' not much happened today'\u001b[0m\u001b[1;33m)\u001b[0m\u001b[1;33m\u001b[0m\u001b[1;33m\u001b[0m\u001b[0m\n\u001b[1;32m----> 7\u001b[1;33m \u001b[0mone_percent\u001b[0m\u001b[1;33m(\u001b[0m\u001b[0mtickers_close\u001b[0m\u001b[1;33m)\u001b[0m\u001b[1;33m\u001b[0m\u001b[1;33m\u001b[0m\u001b[0m\n\u001b[0m",
      "\u001b[1;32m~\\AppData\\Local\\Temp/ipykernel_3268/3940363287.py\u001b[0m in \u001b[0;36mone_percent\u001b[1;34m(tickers_close)\u001b[0m\n\u001b[0;32m      1\u001b[0m \u001b[1;32mdef\u001b[0m \u001b[0mone_percent\u001b[0m\u001b[1;33m(\u001b[0m\u001b[0mtickers_close\u001b[0m\u001b[1;33m)\u001b[0m\u001b[1;33m:\u001b[0m\u001b[1;33m\u001b[0m\u001b[1;33m\u001b[0m\u001b[0m\n\u001b[0;32m      2\u001b[0m     \u001b[0mchange\u001b[0m \u001b[1;33m=\u001b[0m \u001b[1;33m(\u001b[0m\u001b[0mtickers_close\u001b[0m\u001b[1;33m[\u001b[0m\u001b[1;34m'GOOGL'\u001b[0m\u001b[1;33m]\u001b[0m\u001b[1;33m/\u001b[0m\u001b[0mtickers_close\u001b[0m\u001b[1;33m[\u001b[0m\u001b[1;34m'GOOGL'\u001b[0m\u001b[1;33m]\u001b[0m\u001b[1;33m.\u001b[0m\u001b[0mshift\u001b[0m\u001b[1;33m(\u001b[0m\u001b[1;36m1\u001b[0m\u001b[1;33m)\u001b[0m\u001b[1;33m)\u001b[0m\u001b[1;33m-\u001b[0m\u001b[1;36m1\u001b[0m\u001b[1;33m\u001b[0m\u001b[1;33m\u001b[0m\u001b[0m\n\u001b[1;32m----> 3\u001b[1;33m     \u001b[1;32mif\u001b[0m \u001b[0mabs\u001b[0m\u001b[1;33m(\u001b[0m\u001b[0mchange\u001b[0m\u001b[1;33m)\u001b[0m \u001b[1;33m>\u001b[0m \u001b[1;36m.01\u001b[0m\u001b[1;33m:\u001b[0m\u001b[1;33m\u001b[0m\u001b[1;33m\u001b[0m\u001b[0m\n\u001b[0m\u001b[0;32m      4\u001b[0m         \u001b[0mprint\u001b[0m\u001b[1;33m(\u001b[0m\u001b[1;34mf' your stock change was {change} today'\u001b[0m\u001b[1;33m)\u001b[0m\u001b[1;33m\u001b[0m\u001b[1;33m\u001b[0m\u001b[0m\n\u001b[0;32m      5\u001b[0m     \u001b[1;32melse\u001b[0m\u001b[1;33m:\u001b[0m\u001b[1;33m\u001b[0m\u001b[1;33m\u001b[0m\u001b[0m\n",
      "\u001b[1;32m~\\anaconda3\\lib\\site-packages\\pandas\\core\\generic.py\u001b[0m in \u001b[0;36m__nonzero__\u001b[1;34m(self)\u001b[0m\n\u001b[0;32m   1535\u001b[0m     \u001b[1;33m@\u001b[0m\u001b[0mfinal\u001b[0m\u001b[1;33m\u001b[0m\u001b[1;33m\u001b[0m\u001b[0m\n\u001b[0;32m   1536\u001b[0m     \u001b[1;32mdef\u001b[0m \u001b[0m__nonzero__\u001b[0m\u001b[1;33m(\u001b[0m\u001b[0mself\u001b[0m\u001b[1;33m)\u001b[0m\u001b[1;33m:\u001b[0m\u001b[1;33m\u001b[0m\u001b[1;33m\u001b[0m\u001b[0m\n\u001b[1;32m-> 1537\u001b[1;33m         raise ValueError(\n\u001b[0m\u001b[0;32m   1538\u001b[0m             \u001b[1;34mf\"The truth value of a {type(self).__name__} is ambiguous. \"\u001b[0m\u001b[1;33m\u001b[0m\u001b[1;33m\u001b[0m\u001b[0m\n\u001b[0;32m   1539\u001b[0m             \u001b[1;34m\"Use a.empty, a.bool(), a.item(), a.any() or a.all().\"\u001b[0m\u001b[1;33m\u001b[0m\u001b[1;33m\u001b[0m\u001b[0m\n",
      "\u001b[1;31mValueError\u001b[0m: The truth value of a Series is ambiguous. Use a.empty, a.bool(), a.item(), a.any() or a.all()."
     ]
    }
   ],
   "source": [
    "def one_percent(tickers_close):\n",
    "    change = (tickers_close['GOOGL']/tickers_close['GOOGL'].shift(1))-1\n",
    "    if abs(change) > .01:\n",
    "        print(f' your stock change was {change} today')\n",
    "    else:\n",
    "        print(f' not much happened today')\n",
    "one_percent(tickers_close)"
   ]
  },
  {
   "cell_type": "code",
   "execution_count": null,
   "id": "d7ee43b2-8379-40ae-90d5-df4039911cea",
   "metadata": {},
   "outputs": [],
   "source": []
  }
 ],
 "metadata": {
  "kernelspec": {
   "display_name": "Python 3 (ipykernel)",
   "language": "python",
   "name": "python3"
  },
  "language_info": {
   "codemirror_mode": {
    "name": "ipython",
    "version": 3
   },
   "file_extension": ".py",
   "mimetype": "text/x-python",
   "name": "python",
   "nbconvert_exporter": "python",
   "pygments_lexer": "ipython3",
   "version": "3.9.7"
  }
 },
 "nbformat": 4,
 "nbformat_minor": 5
}
