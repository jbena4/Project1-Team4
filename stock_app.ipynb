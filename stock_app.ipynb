import yfinance as yf
import talib as ta
import pandas as pd
import matplotlib.pyplot as plt

jpm = yf.Ticker("JPM")
df = jpm.history(start="2020-01-01", end='2022-02-04')
df.head()

df['Moving Average'] = ta.SMA(df['Close'],20)
df[['Close','Moving Average']].plot(figsize=(12,12), title='JPM Stock Price')
plt.show()
